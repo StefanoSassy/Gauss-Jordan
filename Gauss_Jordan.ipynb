{
 "cells": [
  {
   "cell_type": "markdown",
   "metadata": {},
   "source": [
    "# El algoritmo de Gauss-Jordan.\n",
    "\n",
    "El algoritmo de Gauss-Jordan nos ayudan a resolver sistema no-homogeneos de $m$ ecuaciones con $n$ incognitas, es decir,  \n",
    "$$\n",
    "\\begin{cases}\n",
    "    a_{11}x_1 + a_{12}x_2 + \\dots + a_{1n}x_n = b_1 \\\\\n",
    "    a_{21}x_1 + a_{22}x_2 + \\dots + a_{2n}x_n = b_2 \\\\\n",
    "    \\vdots \\\\\n",
    "    a_{m1}x_1 + a_{m2}x_2 + \\dots + a_{mn}x_n = b_m.\n",
    "\\end{cases}\n",
    "$$\n",
    "El proceso es bastante secillo de aplicar, se lleva al sistema a su *matriz aumentada* y se hacen operaciones \"elementales\" que llevan a la resolución (o no) de un sistema.\n",
    "Las preguntas a responder son ¿Por qué funciona? Si es un algoritmo ¿Se puede programar? \n",
    "\n",
    "## Teoría \n",
    "\n",
    "**Definición.-** Las operaciones elementales para una matriz $A_{m\\times n}$ son:  \n",
    "\n",
    "1. Intercambiar dos renglones (columnas).\n",
    "2. Multiplicar cualquier renglon (columna) por un escalar distinto de cero.\n",
    "3. Sumar un multiplo de un rengon (columna) a otro renglon (columna).\n",
    "\n",
    "Veamos el código para cada una de la operaciones. "
   ]
  },
  {
   "cell_type": "code",
   "execution_count": 1,
   "metadata": {},
   "outputs": [
    {
     "name": "stdout",
     "output_type": "stream",
     "text": [
      "[[2, -1, 1, 5], [1, 2, 3, 14], [3, -1, 1, 10]]\n",
      "[[10, -5, 5, 25], [1, 2, 3, 14], [3, -1, 1, 10]]\n"
     ]
    }
   ],
   "source": [
    "A=[[1,2,3,14],[2,-1,1,5],[3,-1,1,10]]\n",
    "\n",
    "def change_rows(A,i,j): #Ingresamos la matriz, y los renglones que queremos cambiar. \n",
    "   A[i], A[j]=A[j], A[i] #Cambiasmos los renglones AL MISMO TIEMPO. \n",
    "   return A\n",
    "print(change_rows(A,0,1))\n",
    "\n",
    "def mult_row(A,i,c): #Multiplicar un renglon por un escalar.\n",
    "   A[i] = [c * elem for elem in A[i]] #Para cada elemento en A[i] lo multiplicamos por c y sustituimos toda la sublista. \n",
    "   return A\n",
    "print(mult_row(A,0,5))\n",
    "\n",
    "def add_rows(A,i,j,c): #Sumar c veces el renglon i con el renglon j.\n",
    "   A[j] = [A[j][k] + c * A[i][k] for k in range(len(A[0]))] #Sustituir el renglon j. \n",
    "   return A\n",
    "   \n",
    "#Notemos que la matriz A se va modificando cada vez que le aplicamos una función. "
   ]
  },
  {
   "cell_type": "markdown",
   "metadata": {},
   "source": [
    "**Definición.-** Una matriz elmental $E_{n\\times n}$ es la matriz identidad $I_n$ después de aplicarle alguna de las tres operaciones elmentales. \n",
    "$$ E_1 = \\begin{bmatrix} 0 & 1 & 0 \\\\ 1 & 0 & 0 \\\\ 0 & 0 & 1 \\end{bmatrix}, \\quad E_2 = \\begin{bmatrix} 1 & 0 & -2 \\\\ 0 & 1 & 0 \\\\ 0 & 0 & 1 \\end{bmatrix}. $$\n",
    "\n"
   ]
  },
  {
   "cell_type": "code",
   "execution_count": 2,
   "metadata": {},
   "outputs": [],
   "source": [
    "def indentity_n(n):\n",
    "    I=[[0]*n for i in range(n)] \n",
    "    for i in range(n): #range(n)=[0,1,2,...,n-1] i toma los valores 0,1,2,..., n-1\n",
    "        I[i][i]=1\n",
    "    return I\n",
    "#¿Qué operaciones aplicamos? "
   ]
  },
  {
   "cell_type": "markdown",
   "metadata": {},
   "source": [
    "**Teorema.-** Sean $A_{m\\times n}$ y $B_{m\\times n}$ otra matriz que resulta de aplicar alguna operación elemental de renglones (columnas) a $A$. Entonces, existe una matriz elemental $E$ de tamaño $m \\times m $ ($n \\times n$) tal que $B=EA$ ($B=AE$). De hecho, $E$ se obtiene de $I_m$ ($I_n$) después de aplicarle la mismas operaciones elementales de renglones (columnas) que fueron aplicados a $A$ para obtener $B$. \n",
    "$$ B_{3 \\times 4} = \\begin{bmatrix} 2 & -1 & 1 & 5 \\\\ 1 & 2 & 3 & 14 \\\\ 3 & -1 & 1 & 10 \\end{bmatrix} = \\begin{bmatrix} 0 & 1 & 0 \\\\ 1 & 0 & 0 \\\\ 0 & 0 & 1 \\end{bmatrix} \\begin{bmatrix} 1 & 2 & 3 & 14 \\\\ 2 & -1 & 1 & 5 \\\\ 3 & -1 & 1 & 10 \\end{bmatrix}E_3A_{3\\times 4}.$$\n",
    "\n"
   ]
  },
  {
   "cell_type": "code",
   "execution_count": 3,
   "metadata": {},
   "outputs": [],
   "source": [
    "#Generemos una función que nos diga cuando dos matrices son iguales. "
   ]
  },
  {
   "cell_type": "markdown",
   "metadata": {},
   "source": [
    "# ¿Qué tienen que ver las operaciones elementales con el algoritmo de G-J?\n",
    "\n",
    "**Teorema.-** El rango de una matriz es igual al número más grande de sus vectores columna linealmente independientes. \n",
    "\n",
    "**Proposición.-** Las operaciones elementales de una matriz preservan su rango. \n",
    "\n",
    "Si pensamos a una matriz de $A_{m \\times n}$ como una transformación lineal $A:\\mathbb{R}^m\\rightarrow \\mathbb{R}^n$, el rango es la dimensión de su imagen como subespacio vectorial de contradominio $\\mathbb{R}^n$, es decir, $\\dim (\\text{im}(A))=\\text{rank}(A).$ \n",
    "\n",
    "**Teorema.-** Si $A_{m\\times n}$ es una matriz de rango $r$, entonces $r \\leq m$, $r\\leq n$ y existe un número finito de operaciones elementales por renglon y columnas que transforman a $A$ en una matriz del la forma $$ D_{m \\times n} = \\begin{bmatrix} I_r & O_1  \\\\ O_2 & O_3\\end{bmatrix},$$\n",
    "es decir, una matriz diagonal, tal que $D_{ii}=1 si $i\\leq r$ y $D_{ij}=0$ para $i\\neq j$.\n",
    "\n",
    "Por ejemplo, la matriz $$A_{4 \\times 5} = \\begin{bmatrix} 0 & 2 & 4 & 2 & 2\\\\ 4 & 4 & 4 & 8 & 0 \\\\ 8 & 2 & 0 & 10 & 2 \\\\ 6 & 3 & 2 & 9 & 1 \\end{bmatrix} \\to D_{4 \\times 5} = \\begin{bmatrix} 1 & 0 & 0 & 0 & 0\\\\ 0 & 1 & 0 & 0 & 0 \\\\ 0 & 0 & 1 & 0 & 0 \\\\ 0 & 0 & 0 & 0 & 0 \\end{bmatrix}.$$\n",
    "\n",
    "Gracias al los teoremas y las propocisión tenemos que $\\text{rank}(A)=\\text{rank}(D)=3$.\n",
    "\n",
    "# Regresando a sistemas de ecuaciones.\n",
    "\n",
    "Un sistema de ecuaciones se puede arreglar de manera matricial como $Ax=b$ de la siguiente manera:  \n",
    "$$\\begin{bmatrix}\n",
    "    a_{11} & a_{12} & \\dots  & a_{1n} \\\\\n",
    "    a_{21} & a_{22} & \\dots  & a_{2n} \\\\\n",
    "    \\vdots & \\vdots & \\ddots & \\vdots \\\\\n",
    "    a_{m1} & a_{m2} & \\dots  & a_{mn}\n",
    "\\end{bmatrix}\n",
    "\\begin{bmatrix}\n",
    "    x_1 \\\\\n",
    "    x_2 \\\\\n",
    "    \\vdots \\\\\n",
    "    x_n\n",
    "\\end{bmatrix}\n",
    "=\n",
    "\\begin{bmatrix}\n",
    "    b_1 \\\\\n",
    "    b_2 \\\\\n",
    "    \\vdots \\\\\n",
    "    b_m\n",
    "\\end{bmatrix}. $$\n",
    "\n",
    "**Teorema.-** Sea $Ax=b$ un sistema de $n$ ecuaciones lineales con $n$ incognitas. La matriz $A$ es invertible si y solo si el sistema tiene una única solución.\n",
    "\n",
    "Para aplicar el algoritmo de Gauss-Jordan tomamos la matriz aumentada \n",
    "$$ \\left[\n",
    "\\begin{array}{cccc|c}\n",
    "    a_{11} & a_{12} & \\dots  & a_{1n} & b_1 \\\\\n",
    "    a_{21} & a_{22} & \\dots  & a_{2n} & b_2 \\\\\n",
    "    \\vdots & \\vdots & \\ddots & \\vdots & \\vdots \\\\\n",
    "    a_{n1} & a_{n2} & \\dots  & a_{nn} & b_n\n",
    "\\end{array}\n",
    "\\right] $$\n",
    "y le aplicamos operaciones elementales hasta llevarla a una matriz mas sencilla.\n",
    "\n",
    "La idea es ingresar al sistema el número de incognitas ($n$) los coeficientes de las ecuaciones ($a_{ij}$), que vaya acomodando los coeficientes en la matriz aumentada para después aplicarle el algoritmo a dicha matriz.\n",
    "\n",
    "Veamos el código para ingresar el número de incognitas."
   ]
  },
  {
   "cell_type": "code",
   "execution_count": 4,
   "metadata": {},
   "outputs": [],
   "source": [
    "n=int(input('Ingresar el número de incognitas:'))"
   ]
  },
  {
   "cell_type": "markdown",
   "metadata": {},
   "source": [
    "Ahora, construimos la matriz aumentada, para ello usaremos la matriz de \"ceros\" para después sustituir paso a paso los coeficientes del sistema. "
   ]
  },
  {
   "cell_type": "code",
   "execution_count": null,
   "metadata": {},
   "outputs": [
    {
     "name": "stdout",
     "output_type": "stream",
     "text": [
      "[[0. 0. 0. 0.]\n",
      " [0. 0. 0. 0.]\n",
      " [0. 0. 0. 0.]]\n",
      "\n",
      "Ingresar los coefecientes del sistema:\n",
      "[[1. 2. 3. 4.]\n",
      " [5. 6. 7. 8.]\n",
      " [9. 0. 1. 2.]]\n"
     ]
    }
   ],
   "source": [
    "import numpy as np\n",
    "\n",
    "A = np.zeros((n,n+1)) #Construimos la matriz de puros ceros del tamaña que debería tener la matriz aumentada. \n",
    "\n",
    "print(f'{A}\\n')\n",
    "\n",
    "print('Ingresar los coefecientes del sistema:')\n",
    "\n",
    "for i in range(n): #range(n)=[0,1,2,...,n-1]\n",
    "    for j in range(n+1): #range(n+1)=[0,1,2,...,n]\n",
    "        A[i][j] = float(input( 'A['+str(i)+']['+str(j)+']=')) \n",
    "print(A)"
   ]
  },
  {
   "cell_type": "markdown",
   "metadata": {},
   "source": [
    "Modificar "
   ]
  },
  {
   "cell_type": "code",
   "execution_count": 6,
   "metadata": {},
   "outputs": [
    {
     "name": "stdout",
     "output_type": "stream",
     "text": [
      "[[9. 0. 1. 2.]\n",
      " [5. 6. 7. 8.]\n",
      " [1. 2. 3. 4.]]\n"
     ]
    }
   ],
   "source": [
    "def reorganizar_sistema(A):\n",
    "    A=A.tolist()\n",
    "    A.sort(key=lambda x: [abs(i) for i in x], reverse=True) #Acomodo en orden lexicográfico con respecto al valor absoluto. \n",
    "    A=np.array(A)# Intercambiar filas correctamente\n",
    "    return A\n",
    "A=reorganizar_sistema(A)\n",
    "print(A)"
   ]
  },
  {
   "cell_type": "code",
   "execution_count": 7,
   "metadata": {},
   "outputs": [],
   "source": [
    "#Discutir a que queremos llevar la matriz."
   ]
  },
  {
   "cell_type": "code",
   "execution_count": 8,
   "metadata": {},
   "outputs": [
    {
     "name": "stdout",
     "output_type": "stream",
     "text": [
      "[[   9.    0.    1.    2.]\n",
      " [   0.  -54.  -58.  -62.]\n",
      " [   0.    0. -360. -720.]]\n"
     ]
    }
   ],
   "source": [
    "for k in range(n):\n",
    "  pivote=A[k][k]\n",
    "  if pivote ==0:\n",
    "    continue\n",
    "  for i in range(k+1,n):\n",
    "    factor=A[i][k]\n",
    "    if factor == 0:\n",
    "      continue\n",
    "    for j in range(k,n+1):\n",
    "        A[i][j]=A[k][j]*(factor)+(A[i][j]*(-pivote))\n",
    "print(A)"
   ]
  },
  {
   "cell_type": "code",
   "execution_count": 9,
   "metadata": {},
   "outputs": [],
   "source": [
    "#Discutir como y cuando se puede obtener el resultado."
   ]
  },
  {
   "cell_type": "code",
   "execution_count": 10,
   "metadata": {},
   "outputs": [],
   "source": [
    "import sys \n",
    "for i in range(n):\n",
    "    if np.all(A[i, :-1] == 0) and A[i, -1] != 0:\n",
    "        print(\"El sistema no tiene solución.\")\n",
    "        sys.exit()"
   ]
  },
  {
   "cell_type": "code",
   "execution_count": 11,
   "metadata": {},
   "outputs": [
    {
     "name": "stdout",
     "output_type": "stream",
     "text": [
      "Soluciones:\n",
      "x1 = 0.0\n",
      "x2 = -1.0\n",
      "x3 = 2.0\n"
     ]
    }
   ],
   "source": [
    "S = np.zeros(n) \n",
    "\n",
    "for i in range(n-1, -1, -1): #range(n-1,-1,-1)=[4,3,2,1,0] si n=5\n",
    "    suma = 0 #Guardamos una suma.\n",
    "    for j in range(i+1, n): \n",
    "        suma += A[i][j] * S[j]  # Sumar los términos ya conocidos\n",
    "    S[i] = (A[i][n] - suma) / A[i][i]\n",
    "\n",
    "print(\"Soluciones:\")\n",
    "for i in range(n):\n",
    "    print(f'x{i+1} = {S[i]}')"
   ]
  }
 ],
 "metadata": {
  "kernelspec": {
   "display_name": "venv",
   "language": "python",
   "name": "python3"
  },
  "language_info": {
   "codemirror_mode": {
    "name": "ipython",
    "version": 3
   },
   "file_extension": ".py",
   "mimetype": "text/x-python",
   "name": "python",
   "nbconvert_exporter": "python",
   "pygments_lexer": "ipython3",
   "version": "3.12.2"
  }
 },
 "nbformat": 4,
 "nbformat_minor": 2
}
